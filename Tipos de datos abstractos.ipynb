{
 "cells": [
  {
   "cell_type": "markdown",
   "metadata": {},
   "source": [
    "# Tipos de datos abstractos\n",
    "\n",
    "Recordemos que en Python todo es un objeto y tiene un **tipo** como enteros, strings, listas, etc.\n",
    "\n",
    "Los tipos de datos abstractos son una combinación de tipos elementales con operaciones cuyo objetivo es crear módulos o segmentos de código\n",
    "\n",
    "\n",
    "Formas de interactuar con un datos abstracto:\n",
    "\n",
    "- Creación\n",
    "- Manipulación\n",
    "- Destrucción\n",
    "\n",
    "Ventajas de interactuar con un dato abstracto:\n",
    "\n",
    "- Decomposición\n",
    "- Abstracción\n",
    "- Encapsulación\n",
    "\n",
    "Las listas, tuplas, [double ended queue](https://en.wikipedia.org/wiki/Double-ended_queue), [heaps](https://www.geeksforgeeks.org/heap-queue-or-heapq-in-python/) o clases son ADT.\n",
    "\n",
    "**NOTA**\n",
    "Las clases solo son una herramienta para crear ADTs, no son por si solas ADTs."
   ]
  },
  {
   "cell_type": "code",
   "execution_count": 12,
   "metadata": {},
   "outputs": [
    {
     "name": "stdout",
     "output_type": "stream",
     "text": [
      "El chiguagua ladra en promedio 2 minutos\n",
      "El bulldog salta por 1 minuto cuando está feliz\n"
     ]
    }
   ],
   "source": [
    "# Ejemplo1\n",
    "\n",
    "#Creando la clase\n",
    "class Perro:\n",
    "#Asignando sus atributos\n",
    "    def __init__(self,raza,edad):\n",
    "        self.raza=raza\n",
    "        self.edad=edad\n",
    "#Asignando sus métodos\n",
    "    def ladridos(self):\n",
    "        return f'El {self.raza} ladra en promedio 2 minutos'\n",
    "    def saltos(self):\n",
    "        return f'El {self.raza} salta por 1 minuto cuando está feliz'\n",
    "\n",
    "#Inicializando instancias\n",
    "\n",
    "super_du = Perro('bulldog',1)\n",
    "chichic = Perro('chiguagua',2)\n",
    "\n",
    "print(chichic.ladridos())\n",
    "print(super_du.saltos())   "
   ]
  },
  {
   "cell_type": "code",
   "execution_count": 13,
   "metadata": {},
   "outputs": [
    {
     "name": "stdout",
     "output_type": "stream",
     "text": [
      "La distancia entre los dos puntos es 0.0\n",
      "Es el punto a definido una instancia de la clase coordenada: True\n"
     ]
    }
   ],
   "source": [
    "#Ejemplo2\n",
    "\n",
    "import math\n",
    "\n",
    "class Coordenada:\n",
    "    \n",
    "    def __init__(self,x,y):\n",
    "        self.x= x\n",
    "        self.y= y\n",
    "\n",
    "    def distancia(self, otra_coordenada):\n",
    "        x_diff = (self.x - otra_coordenada.x)**2\n",
    "        y_diff = (self.y - otra_coordenada.y)**2\n",
    "    \n",
    "        return math.sqrt(x_diff + y_diff)\n",
    "    \n",
    "punto_a=Coordenada(3,5)\n",
    "punto_b=Coordenada(3,5)\n",
    "\n",
    "print(f'La distancia entre los dos puntos es {punto_a.distancia(punto_b)}')\n",
    "\n",
    "#Preguntamos si el punto_a es una instancia de la clase Coordenada\n",
    "print(f'Es el punto a definido una instancia de la clase coordenada: {isinstance(punto_a,Coordenada)}')"
   ]
  },
  {
   "cell_type": "code",
   "execution_count": null,
   "metadata": {},
   "outputs": [],
   "source": []
  }
 ],
 "metadata": {
  "kernelspec": {
   "display_name": "Python 3",
   "language": "python",
   "name": "python3"
  },
  "language_info": {
   "codemirror_mode": {
    "name": "ipython",
    "version": 3
   },
   "file_extension": ".py",
   "mimetype": "text/x-python",
   "name": "python",
   "nbconvert_exporter": "python",
   "pygments_lexer": "ipython3",
   "version": "3.7.6"
  }
 },
 "nbformat": 4,
 "nbformat_minor": 4
}
