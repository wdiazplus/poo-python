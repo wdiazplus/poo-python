{
 "cells": [
  {
   "cell_type": "markdown",
   "metadata": {},
   "source": [
    "# POO y Algoritmos en Python\n",
    "\n",
    "## Programación orientada a objetos\n",
    "\n",
    "Es un modelo de programación innovador para resolver una problemática a partir de clases y objetos.\n",
    "\n",
    "Los objetos son entidades con características únicas (atributos) que pueden realizar diferentes acciones (métodos)\n",
    "\n",
    "Un ejemplo podría ser, útiles de escritura como lápiz, borrador, tajalápiz que tienen **atributos** como tamaño, peso y **métodos** como escribir y borrar.\n",
    "\n",
    "### ¿Que es una clase?\n",
    "\n",
    "Es un molde con los cuáles podemos crear objetos con ciertos atributos y ciertos métodos.\n",
    "\n",
    "Nota: Las clases sólo proveen estructura. \n",
    "\n",
    "La [documentación oficial](https://docs.python.org/3.7/tutorial/classes.html) será de ayuda en los temas que siguen. \n",
    "\n",
    "### ¿Qué es una instancia?\n",
    "\n",
    "Las instancias son los objetos reales creados a partir de una clase. \n",
    "\n",
    "Para entender el concepto de clase e instancia, decimos que tenemos una encuesta (clase) y la diligencia dos personas, por tanto tendríamos una clase con dos instancias, a saber, persona1 y persona2.\n",
    "\n",
    "Para definir una clase, se usa el keyword **class**, ejemplo:\n",
    "\n",
    "class Libro:\n",
    "    pass\n",
    "\n",
    "\n",
    "#### **Atributos de la instancia**\n",
    "\n",
    "Los atributos de la instancia describen lo que representa al objeto. \n",
    "\n",
    "Se usa ** __ init __ ** para definir el estado inicial de la instancia y recibe como primer parámetro **self** para referencia la instancia.\n",
    "\n",
    "Veamos un ejemplo "
   ]
  },
  {
   "cell_type": "code",
   "execution_count": 3,
   "metadata": {},
   "outputs": [
    {
     "name": "stdout",
     "output_type": "stream",
     "text": [
      "pombo\n"
     ]
    }
   ],
   "source": [
    "class Libro:\n",
    "    \n",
    "    def __init__(self, genero, autor, fecha_publicacion):\n",
    "        self.genero = genero\n",
    "        self.autor = autor\n",
    "        self.fecha_publicacion = fecha_publicacion\n",
    "\n",
    "aventuraenelcielo = Libro(genero='poesia',autor='pombo',fecha_publicacion='20-01-1999')\n",
    "print(aventuraenelcielo.autor)    "
   ]
  },
  {
   "cell_type": "markdown",
   "metadata": {},
   "source": [
    "#### Métodos de la instancia\n",
    "\n",
    "Los métodos de las instancias nos indican las acciones qué podemos hacer con las instancias de dicha clase y operan sobre los atributos. \n",
    "\n",
    "Los métodos son funciones dentro de las clases pero todas tienen parámetro inicial self.\n",
    "\n",
    "Veamos un ejemplo:"
   ]
  },
  {
   "cell_type": "code",
   "execution_count": 19,
   "metadata": {},
   "outputs": [
    {
     "name": "stdout",
     "output_type": "stream",
     "text": [
      "Del libro pandereta hay 2 ejemplares disponibles\n",
      "Del libro aventura en el cielo hay 5 ejemplares disponibles\n"
     ]
    }
   ],
   "source": [
    "class Libro:\n",
    "    \n",
    "    def __init__(self, genero, autor, fecha_publicacion):\n",
    "        self.genero = genero\n",
    "        self.autor = autor\n",
    "        self.fecha_publicacion = fecha_publicacion\n",
    "        self.libros=0\n",
    "    \n",
    "    def agregar_ejemplar(self, numero_de_libros):\n",
    "        self.libros += numero_de_libros\n",
    "    \n",
    "    def eliminar_ejemplar(self,numero_de_libros):\n",
    "        self.libros -= numero_de_libros\n",
    "        \n",
    "    def contar_ejemplares(self):\n",
    "        return self.libros\n",
    "\n",
    "pandereta = Libro('novela','Gabriel','20-02-2000')\n",
    "aventuraenelcielo = Libro('poesia','pombo','20-01-1999')\n",
    "pandereta.agregar_ejemplar(2)\n",
    "aventuraenelcielo.agregar_ejemplar(5)\n",
    "\n",
    "print(f'Del libro pandereta hay {pandereta.contar_ejemplares()} ejemplares disponibles')\n",
    "print(f'Del libro aventura en el cielo hay {aventuraenelcielo.contar_ejemplares()} ejemplares disponibles')\n"
   ]
  },
  {
   "cell_type": "markdown",
   "metadata": {},
   "source": [
    "# Ejercicio tomado del libro Crash course Python"
   ]
  },
  {
   "cell_type": "code",
   "execution_count": 1,
   "metadata": {},
   "outputs": [
    {
     "name": "stdout",
     "output_type": "stream",
     "text": [
      "****************************************************************************************************\n",
      "Mypizza\n",
      "****************************************************************************************************\n",
      "Italian cuisine\n",
      "****************************************************************************************************\n",
      "The name is Mypizza and your cuisine type is Italian cuisine\n",
      "****************************************************************************************************\n",
      "Mypizza is open\n"
     ]
    }
   ],
   "source": [
    "# Restaurant: Make a class called Restaurant . The __init__() method for\n",
    "# Restaurant should store two attributes: a restaurant_name and a cuisine_type .\n",
    "# Make a method called describe_restaurant() that prints these two pieces of\n",
    "# information, and a method called open_restaurant() that prints a message indi-\n",
    "# cating that the restaurant is open.\n",
    "# Make an instance called restaurant from your class. Print the two attri-\n",
    "# butes individually, and then call both methods.\n",
    "\n",
    "class Restaurant:\n",
    "    def __init__(self,restaurant_name, cuisine_type):\n",
    "        self.restaurant_name = restaurant_name\n",
    "        self.cuisine_type = cuisine_type\n",
    "    \n",
    "    def describe_restaurant(self):\n",
    "        print(f'The name is {self.restaurant_name} and your cuisine type is {self.cuisine_type}') \n",
    "    \n",
    "    def open_restaurant(self):\n",
    "\n",
    "        print(f'{self.restaurant_name} is open')\n",
    "\n",
    "\n",
    "#Instance\n",
    "restaurant = Restaurant('Mypizza', 'Italian cuisine')\n",
    "\n",
    "print(('*')*100)\n",
    "#Name of instance\n",
    "print(restaurant.restaurant_name)\n",
    "print(('*')*100)\n",
    "#Cuisine type of instance\n",
    "print(restaurant.cuisine_type)\n",
    "\n",
    "\n",
    "print(('*')*100)\n",
    "# Using methods\n",
    "restaurant.describe_restaurant()\n",
    "\n",
    "print(('*')*100)\n",
    "restaurant.open_restaurant()"
   ]
  },
  {
   "cell_type": "code",
   "execution_count": null,
   "metadata": {},
   "outputs": [],
   "source": []
  }
 ],
 "metadata": {
  "kernelspec": {
   "display_name": "Python 3",
   "language": "python",
   "name": "python3"
  },
  "language_info": {
   "codemirror_mode": {
    "name": "ipython",
    "version": 3
   },
   "file_extension": ".py",
   "mimetype": "text/x-python",
   "name": "python",
   "nbconvert_exporter": "python",
   "pygments_lexer": "ipython3",
   "version": "3.7.6"
  }
 },
 "nbformat": 4,
 "nbformat_minor": 4
}
