{
 "cells": [
  {
   "cell_type": "markdown",
   "metadata": {},
   "source": [
    "## Ventajas de usar la librería Bokeh\n",
    "\n",
    "\n",
    "- Permite construir gráficas complejas de manera rápida y con comandos simples.\n",
    "- Permite exportar a varios formatos como HTML, notebook, imágenes, etc.\n",
    "- Se puede utilizar en el servidor con Flask y Django.\n",
    "\n",
    "[documentación oficial](https://docs.bokeh.org/en/latest/index.html)"
   ]
  },
  {
   "cell_type": "code",
   "execution_count": 9,
   "metadata": {},
   "outputs": [
    {
     "name": "stdout",
     "output_type": "stream",
     "text": [
      "¿Cuántos valores quieres graficar?5\n",
      "Valor y para 01\n",
      "Valor y para 12\n",
      "Valor y para 25\n",
      "Valor y para 39\n",
      "Valor y para 41\n"
     ]
    }
   ],
   "source": [
    "from bokeh.plotting import figure, output_file, show\n",
    "\n",
    "if __name__ == '__main__':\n",
    "    output_file('gráfico simple.html')\n",
    "    fig = figure()\n",
    "    total_vals = int(input('¿Cuántos valores quieres graficar?'))\n",
    "    x_val= list(range(total_vals))\n",
    "    y_val= []\n",
    "    \n",
    "    for x in x_val:\n",
    "        value = int(input(f'Valor y para {x}'))\n",
    "        y_val.append(value)\n",
    "    \n",
    "    fig.line(x_val,y_val, line_width = 2)\n",
    "    show(fig)"
   ]
  },
  {
   "cell_type": "code",
   "execution_count": null,
   "metadata": {},
   "outputs": [],
   "source": []
  }
 ],
 "metadata": {
  "kernelspec": {
   "display_name": "Python 3",
   "language": "python",
   "name": "python3"
  },
  "language_info": {
   "codemirror_mode": {
    "name": "ipython",
    "version": 3
   },
   "file_extension": ".py",
   "mimetype": "text/x-python",
   "name": "python",
   "nbconvert_exporter": "python",
   "pygments_lexer": "ipython3",
   "version": "3.7.6"
  }
 },
 "nbformat": 4,
 "nbformat_minor": 4
}
