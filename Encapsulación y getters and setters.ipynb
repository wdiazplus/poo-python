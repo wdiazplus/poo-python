{
 "cells": [
  {
   "cell_type": "markdown",
   "metadata": {},
   "source": [
    "# Encapsulación\n",
    "\n",
    "- Permite agrupar datos y su comportamiento\n",
    "- Controla el acceso a dichos datos.\n",
    "- Previene modificaciones no autorizadas\n",
    "\n",
    "\n",
    "Para poder hacer un correcto uso de este concepto, necesitamos usar y tener en cuenta los siguiente:\n",
    "\n",
    "- Getters: Método que permite acceder a los atributos privados de una clase.\n",
    "- Setters: método que permite asignar valores de los atributos de una clase."
   ]
  },
  {
   "cell_type": "code",
   "execution_count": 26,
   "metadata": {},
   "outputs": [
    {
     "name": "stdout",
     "output_type": "stream",
     "text": [
      "Using only get: Mypizza\n",
      "using get and later set: OtherPizza \n"
     ]
    }
   ],
   "source": [
    "class Restaurant:\n",
    "    \n",
    "    def __init__(self,restaurant_name, cuisine_type):\n",
    "        self._restaurant_name = restaurant_name\n",
    "        self._cuisine_type = cuisine_type\n",
    "    \n",
    "    #get method\n",
    "    def get_describe_restaurant(self):\n",
    "        return self._restaurant_name \n",
    "    \n",
    "    #set method\n",
    "    def set_describe_restaurant(self,restaurant_name):\n",
    "        self._restaurant_name =restaurant_name \n",
    "         \n",
    "\n",
    "restaurant = Restaurant('Mypizza', 'Italian cuisine')\n",
    "print(f'Using only get: {restaurant.get_describe_restaurant()}')\n",
    "\n",
    "\n",
    "restaurant.set_describe_restaurant('OtherPizza')\n",
    "print(f'using get and later set: {restaurant.get_describe_restaurant()} ')\n",
    "\n",
    "\n"
   ]
  },
  {
   "cell_type": "code",
   "execution_count": null,
   "metadata": {},
   "outputs": [],
   "source": []
  }
 ],
 "metadata": {
  "kernelspec": {
   "display_name": "Python 3",
   "language": "python",
   "name": "python3"
  },
  "language_info": {
   "codemirror_mode": {
    "name": "ipython",
    "version": 3
   },
   "file_extension": ".py",
   "mimetype": "text/x-python",
   "name": "python",
   "nbconvert_exporter": "python",
   "pygments_lexer": "ipython3",
   "version": "3.7.6"
  }
 },
 "nbformat": 4,
 "nbformat_minor": 4
}
