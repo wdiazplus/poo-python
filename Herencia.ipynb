{
 "cells": [
  {
   "cell_type": "markdown",
   "metadata": {},
   "source": [
    "# Herencia\n",
    "\n",
    "- Permite modelar los diferentes niveles de interacción entre objetos.\n",
    "- Ayuda a definir comportamientos de un objeto basados en otro.\n",
    "- Al nivel superior(padre) se le conoce como superclase y al inmediatamente inferior como subclase(hijo)\n",
    "- Da limpieza y orden en el código."
   ]
  },
  {
   "cell_type": "code",
   "execution_count": 20,
   "metadata": {},
   "outputs": [
    {
     "name": "stdout",
     "output_type": "stream",
     "text": [
      "MyIce is open\n"
     ]
    }
   ],
   "source": [
    "class Restaurant:\n",
    "    def __init__(self,restaurant_name, cuisine_type):\n",
    "        self.restaurant_name = restaurant_name\n",
    "        self.cuisine_type = cuisine_type\n",
    "    \n",
    "    def describe_restaurant(self):\n",
    "        print(f'The name is {self.restaurant_name} and your cuisine type is {self.cuisine_type}') \n",
    "    \n",
    "    def open_restaurant(self):\n",
    "\n",
    "        print(f'{self.restaurant_name} is open')\n",
    "        \n",
    "class IceCreamStand(Restaurant):\n",
    "    \n",
    "    def __init__(self, name):\n",
    "        super().__init__(name, '')\n",
    "    \n",
    "Local = Restaurant('MyHambur','FoodAndIce')\n",
    "LocalHelado = IceCreamStand('MyIce')\n",
    "helado.open_restaurant()\n",
    "    "
   ]
  },
  {
   "cell_type": "code",
   "execution_count": null,
   "metadata": {},
   "outputs": [],
   "source": []
  }
 ],
 "metadata": {
  "kernelspec": {
   "display_name": "Python 3",
   "language": "python",
   "name": "python3"
  },
  "language_info": {
   "codemirror_mode": {
    "name": "ipython",
    "version": 3
   },
   "file_extension": ".py",
   "mimetype": "text/x-python",
   "name": "python",
   "nbconvert_exporter": "python",
   "pygments_lexer": "ipython3",
   "version": "3.7.6"
  }
 },
 "nbformat": 4,
 "nbformat_minor": 4
}
