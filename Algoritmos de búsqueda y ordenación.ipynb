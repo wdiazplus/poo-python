{
 "cells": [
  {
   "cell_type": "markdown",
   "metadata": {},
   "source": [
    "# Algoritmos de búsqueda y ordenación"
   ]
  },
  {
   "cell_type": "markdown",
   "metadata": {},
   "source": [
    "## Búsqueda lineal\n",
    "\n",
    "- Busca en todos los elementos de manera secuencial para enontrar el elemento o elementos que cumplen cierta propiedad objetivo.\n",
    "\n",
    "\n"
   ]
  },
  {
   "cell_type": "code",
   "execution_count": 5,
   "metadata": {},
   "outputs": [
    {
     "name": "stdout",
     "output_type": "stream",
     "text": [
      "Ingresa el tamaño de la lista18\n",
      "Qué  número quieres encontrar 2\n",
      "[26, 48, 4, 6, 61, 98, 95, 53, 41, 42, 75, 45, 39, 21, 86, 83, 1, 39]\n",
      "El elemento 2 no está en la lista \n"
     ]
    }
   ],
   "source": [
    "import random\n",
    "\n",
    "def busqueda_lineal(lista, objetivo):\n",
    "    match = False\n",
    "    \n",
    "    for elemento in lista:\n",
    "        if elemento == objetivo:\n",
    "            match = True\n",
    "            break\n",
    "            \n",
    "    return match\n",
    "\n",
    "size_list = int(input('Ingresa el tamaño de la lista'))\n",
    "goal = int(input('Qué  número quieres encontrar '))\n",
    "\n",
    "lista = [random.randint(0,100) for i in range(size_list)]\n",
    "\n",
    "yes = busqueda_lineal(lista,goal)\n",
    "print(lista)\n",
    "print(f'El elemento {goal} {\"está en la lista\" if yes else \"no está en la lista\"} ')\n",
    "\n"
   ]
  },
  {
   "cell_type": "code",
   "execution_count": null,
   "metadata": {},
   "outputs": [],
   "source": []
  }
 ],
 "metadata": {
  "kernelspec": {
   "display_name": "Python 3",
   "language": "python",
   "name": "python3"
  },
  "language_info": {
   "codemirror_mode": {
    "name": "ipython",
    "version": 3
   },
   "file_extension": ".py",
   "mimetype": "text/x-python",
   "name": "python",
   "nbconvert_exporter": "python",
   "pygments_lexer": "ipython3",
   "version": "3.7.6"
  }
 },
 "nbformat": 4,
 "nbformat_minor": 4
}
