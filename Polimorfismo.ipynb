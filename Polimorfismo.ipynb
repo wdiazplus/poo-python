{
 "cells": [
  {
   "cell_type": "markdown",
   "metadata": {},
   "source": [
    "# Polimorfismo\n",
    "\n"
   ]
  },
  {
   "cell_type": "markdown",
   "metadata": {},
   "source": [
    "El poliformismo nos ayuda a tomar varias formas, en el caso de Python tomaremos el comportamiento de una superclase para implementarlo en una subclase."
   ]
  },
  {
   "cell_type": "code",
   "execution_count": 5,
   "metadata": {},
   "outputs": [
    {
     "name": "stdout",
     "output_type": "stream",
     "text": [
      "Wilmer esta caminando\n",
      "Wilmer va en bici\n"
     ]
    }
   ],
   "source": [
    "class Persona:\n",
    "    def __init__(self, nombre):\n",
    "        self.nombre = nombre\n",
    "        \n",
    "    def avanza(self):\n",
    "        print(f'{self.nombre} esta caminando')\n",
    "\n",
    "class Ciclista(Persona):\n",
    "    \n",
    "    def __init__(self,nombre):\n",
    "        super().__init__(nombre)\n",
    "    \n",
    "    def avanza(self):\n",
    "        print(f'{self.nombre} va en bici')\n",
    "\n",
    "\n",
    "persona = Persona('Wilmer')\n",
    "persona.avanza()\n",
    "ciclista = Ciclista('Wilmer')\n",
    "ciclista.avanza()\n"
   ]
  },
  {
   "cell_type": "code",
   "execution_count": null,
   "metadata": {},
   "outputs": [],
   "source": []
  }
 ],
 "metadata": {
  "kernelspec": {
   "display_name": "Python 3",
   "language": "python",
   "name": "python3"
  },
  "language_info": {
   "codemirror_mode": {
    "name": "ipython",
    "version": 3
   },
   "file_extension": ".py",
   "mimetype": "text/x-python",
   "name": "python",
   "nbconvert_exporter": "python",
   "pygments_lexer": "ipython3",
   "version": "3.7.6"
  }
 },
 "nbformat": 4,
 "nbformat_minor": 4
}
