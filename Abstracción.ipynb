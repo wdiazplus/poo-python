{
 "cells": [
  {
   "cell_type": "markdown",
   "metadata": {},
   "source": [
    "# Abstracción\n",
    "\n",
    "La abstracción hace referencia al enfoque en la información relevante, tratando siempre de separar dicha información en dos capas. Esto se logra utilizando variables y métodos privados en una capa oculta, y en la capa pública mostrar la información de variables y métodos necesarios.\n",
    "\n",
    "\n",
    "Por ejemplo, cuando queremos analizar un resultado dado por la calculadora, no nos enfocamos en cómo llego a dicha respuesta sino que solo nos preocupamos por aceptarla y usarla.\n",
    "\n",
    "Otro ejemplo, sería al momento de comprar unos zapatos, decidimos por aquellos que nos llaman la atención y no aquellos que tuvieron una fabricación de cierto número de días. \n",
    "\n",
    "En general, con la abstracción deseamos mostrar los resultados sin importar cómo los hallamos obtenido y esto se logra creando una **interfaz** que interactúa con las clases que estamos creando."
   ]
  },
  {
   "cell_type": "code",
   "execution_count": 4,
   "metadata": {
    "scrolled": true
   },
   "outputs": [
    {
     "name": "stdout",
     "output_type": "stream",
     "text": [
      "Llenando el tanque con agua caliente\n",
      "Anadiendo jabon\n",
      "Lavando la ropa\n",
      "Centrifugando la ropa\n"
     ]
    }
   ],
   "source": [
    "class Lavadora:\n",
    "    \n",
    "    def __init__(self):\n",
    "        pass\n",
    "    \n",
    "    def lavar(self,temperatura='caliente'):\n",
    "        self._llenar_tanque_de_agua(temperatura)\n",
    "        self._anadir_jabon()\n",
    "        self._lavar()\n",
    "        self._centrifugar()\n",
    "        \n",
    "    def _llenar_tanque_de_agua(self,temperatura):\n",
    "        print(f'Llenando el tanque con agua {temperatura}')\n",
    "    \n",
    "    def _anadir_jabon(self):\n",
    "        print('Anadiendo jabon')\n",
    "    \n",
    "    def _lavar(self):\n",
    "        print('Lavando la ropa')\n",
    "        \n",
    "    def _centrifugar(self):\n",
    "        print('Centrifugando la ropa')\n",
    "    \n",
    "if __name__ == '__main__':\n",
    "    lavadora = Lavadora()\n",
    "    lavadora.lavar()\n",
    "    \n",
    "    \n",
    "    "
   ]
  },
  {
   "cell_type": "code",
   "execution_count": null,
   "metadata": {},
   "outputs": [],
   "source": []
  }
 ],
 "metadata": {
  "kernelspec": {
   "display_name": "Python 3",
   "language": "python",
   "name": "python3"
  },
  "language_info": {
   "codemirror_mode": {
    "name": "ipython",
    "version": 3
   },
   "file_extension": ".py",
   "mimetype": "text/x-python",
   "name": "python",
   "nbconvert_exporter": "python",
   "pygments_lexer": "ipython3",
   "version": "3.7.6"
  }
 },
 "nbformat": 4,
 "nbformat_minor": 4
}
