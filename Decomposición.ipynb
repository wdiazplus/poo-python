{
 "cells": [
  {
   "cell_type": "markdown",
   "metadata": {},
   "source": [
    "# Decomposición\n",
    "\n",
    "La decomposición consiste en partir un problema en problemas más pequeños. Por tanto, las clases permiten crear mayores abstracciones en forma de componentes y así tener la ventaja de tener un software que se mantenga fácilmente.\n",
    "\n",
    "En el siguiente ejemplo además de mostrar la decomposición , usaremos __variables privadas__, que se identifican haciendo _nombrevariable."
   ]
  },
  {
   "cell_type": "code",
   "execution_count": 15,
   "metadata": {},
   "outputs": [
    {
     "data": {
      "text/plain": [
       "'Ciudad economía buena'"
      ]
     },
     "execution_count": 15,
     "metadata": {},
     "output_type": "execute_result"
    }
   ],
   "source": [
    "class Pais:\n",
    "    \n",
    "    def __init__(self,nombre,continente,indicativo,ciudades):\n",
    "        self.nombre = nombre        \n",
    "        self.continente = continente        \n",
    "        self.indicativo = indicativo\n",
    "        self._ciudades = ciudades\n",
    "            \n",
    "    def exportacion(self,producto,ingresos):\n",
    "        self.producto = producto\n",
    "        self._ingresos = ingresos\n",
    "        return ingresos\n",
    "\n",
    "class Ciudad:\n",
    "    \n",
    "    def __init__(self,nombre, habitantes):\n",
    "        self.nombre = nombre\n",
    "        self.habitantes = habitantes\n",
    "        \n",
    "    \n",
    "    def activos(self,activo):\n",
    "        self.activo = activo\n",
    "        if activo < 180000000000/self.habitantes:\n",
    "            return f'Ciudad economía baja'\n",
    "        elif activo == 180000000000/self.habitantes:    \n",
    "            return f'Ciudad economía basica'\n",
    "        else:\n",
    "            return f'Ciudad economía buena'\n",
    "            \n",
    "Colombia = Pais('COL','AME',57,1118)\n",
    "Bogota = Ciudad('BOG',5512423)\n",
    "Bogota.activos(10000000)\n",
    "    "
   ]
  }
 ],
 "metadata": {
  "kernelspec": {
   "display_name": "Python 3",
   "language": "python",
   "name": "python3"
  },
  "language_info": {
   "codemirror_mode": {
    "name": "ipython",
    "version": 3
   },
   "file_extension": ".py",
   "mimetype": "text/x-python",
   "name": "python",
   "nbconvert_exporter": "python",
   "pygments_lexer": "ipython3",
   "version": "3.7.6"
  }
 },
 "nbformat": 4,
 "nbformat_minor": 4
}
